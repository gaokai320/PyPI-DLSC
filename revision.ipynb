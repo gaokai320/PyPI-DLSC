{
 "cells": [
  {
   "cell_type": "code",
   "execution_count": 2,
   "metadata": {},
   "outputs": [
    {
     "name": "stdout",
     "output_type": "stream",
     "text": [
      "334 randomly sampled packages in TensorFlow SC\n",
      "344 randomly sampled packages in TensorFlow SC\n"
     ]
    }
   ],
   "source": [
    "import pandas as pd\n",
    "\n",
    "rand_sample = pd.read_excel(\"data/random_sample.xlsx\")\n",
    "print(\n",
    "    f'{len(rand_sample[rand_sample[\"TensorFlow\"]])} randomly sampled packages in TensorFlow SC'\n",
    ")\n",
    "print(\n",
    "    f'{len(rand_sample[rand_sample[\"PyTorch\"]])} randomly sampled packages in TensorFlow SC'\n",
    ")"
   ]
  },
  {
   "cell_type": "code",
   "execution_count": 3,
   "metadata": {},
   "outputs": [
    {
     "name": "stdout",
     "output_type": "stream",
     "text": [
      "71 packages are labeled as Unclear\n",
      "298 packages (exclude Unclear package) in TensorFlow SC\n",
      "309 packages (exclude Unclear package) in TensorFlow SC\n"
     ]
    }
   ],
   "source": [
    "print(\n",
    "    f'{len(rand_sample[rand_sample[\"Category\"] == \"Unclear\"])} packages are labeled as Unclear'\n",
    ")\n",
    "rand_sample = rand_sample[rand_sample[\"Category\"] != \"Unclear\"]\n",
    "print(\n",
    "    f'{len(rand_sample[rand_sample[\"TensorFlow\"]])} packages (exclude Unclear package) in TensorFlow SC'\n",
    ")\n",
    "print(\n",
    "    f'{len(rand_sample[rand_sample[\"PyTorch\"]])} packages (exclude Unclear package) in TensorFlow SC'\n",
    ")"
   ]
  },
  {
   "cell_type": "code",
   "execution_count": 4,
   "metadata": {},
   "outputs": [
    {
     "name": "stdout",
     "output_type": "stream",
     "text": [
      "TensorFlow: 89.60% Applications, Infrastructure, or Sciences packages, 42.62% Applications packages, 28.19% Infrastructure packages\n",
      "PyTorch: 87.38% Applications, Infrastructure, or Sciences packages, 52.10% Applications packages, 20.39% Infrastructure packages\n"
     ]
    }
   ],
   "source": [
    "for f in [\"TensorFlow\", \"PyTorch\"]:\n",
    "    ais_ratio = len(\n",
    "        rand_sample[\n",
    "            rand_sample[f]\n",
    "            & (\n",
    "                rand_sample[\"Category\"].isin(\n",
    "                    [\"Applications\", \"Infrastructure\", \"Sciences\"]\n",
    "                )\n",
    "            )\n",
    "        ]\n",
    "    ) / len(rand_sample[rand_sample[f]])\n",
    "    a_ratio = len(\n",
    "        rand_sample[rand_sample[f] & (rand_sample[\"Category\"] == \"Applications\")]\n",
    "    ) / len(rand_sample[rand_sample[f]])\n",
    "    i_ratio = len(\n",
    "        rand_sample[rand_sample[f] & (rand_sample[\"Category\"] == \"Infrastructure\")]\n",
    "    ) / len(rand_sample[rand_sample[f]])\n",
    "    print(\n",
    "        f\"{f}: {ais_ratio:.2%} Applications, Infrastructure, or Sciences packages, {a_ratio:.2%} Applications packages, {i_ratio:.2%} Infrastructure packages\"\n",
    "    )"
   ]
  },
  {
   "cell_type": "code",
   "execution_count": 5,
   "metadata": {},
   "outputs": [
    {
     "data": {
      "text/plain": [
       "(100, 6)"
      ]
     },
     "execution_count": 5,
     "metadata": {},
     "output_type": "execute_result"
    }
   ],
   "source": [
    "missing_dependencies = pd.read_excel(\"data/missing_dependencies.xlsx\")\n",
    "len(missing_dependencies), len(missing_dependencies[missing_dependencies[\"Match\"] == 0])"
   ]
  },
  {
   "cell_type": "code",
   "execution_count": 6,
   "metadata": {},
   "outputs": [
    {
     "name": "stdout",
     "output_type": "stream",
     "text": [
      "yqn-pytorch-framework-0.3.0\n",
      "soltrannet-1.0.0\n",
      "rxnfp-0.1.0\n",
      "flexneuart-1.1\n",
      "falconcv-0.1.2\n",
      "metroem-0.0.7\n"
     ]
    }
   ],
   "source": [
    "for name in missing_dependencies[missing_dependencies[\"Match\"] == 0][\"Package\"]:\n",
    "    print(name)"
   ]
  },
  {
   "cell_type": "code",
   "execution_count": 7,
   "metadata": {},
   "outputs": [
    {
     "data": {
      "text/html": [
       "<div>\n",
       "<style scoped>\n",
       "    .dataframe tbody tr th:only-of-type {\n",
       "        vertical-align: middle;\n",
       "    }\n",
       "\n",
       "    .dataframe tbody tr th {\n",
       "        vertical-align: top;\n",
       "    }\n",
       "\n",
       "    .dataframe thead th {\n",
       "        text-align: right;\n",
       "    }\n",
       "</style>\n",
       "<table border=\"1\" class=\"dataframe\">\n",
       "  <thead>\n",
       "    <tr style=\"text-align: right;\">\n",
       "      <th></th>\n",
       "      <th>project</th>\n",
       "      <th>num_downloads</th>\n",
       "    </tr>\n",
       "  </thead>\n",
       "  <tbody>\n",
       "    <tr>\n",
       "      <th>58704</th>\n",
       "      <td>yqn-pytorch-framework</td>\n",
       "      <td>894</td>\n",
       "    </tr>\n",
       "    <tr>\n",
       "      <th>75279</th>\n",
       "      <td>metroem</td>\n",
       "      <td>647</td>\n",
       "    </tr>\n",
       "    <tr>\n",
       "      <th>77741</th>\n",
       "      <td>rxnfp</td>\n",
       "      <td>620</td>\n",
       "    </tr>\n",
       "    <tr>\n",
       "      <th>153772</th>\n",
       "      <td>flexneuart</td>\n",
       "      <td>244</td>\n",
       "    </tr>\n",
       "    <tr>\n",
       "      <th>181735</th>\n",
       "      <td>falconcv</td>\n",
       "      <td>185</td>\n",
       "    </tr>\n",
       "    <tr>\n",
       "      <th>250242</th>\n",
       "      <td>soltrannet</td>\n",
       "      <td>95</td>\n",
       "    </tr>\n",
       "  </tbody>\n",
       "</table>\n",
       "</div>"
      ],
      "text/plain": [
       "                      project  num_downloads\n",
       "58704   yqn-pytorch-framework            894\n",
       "75279                 metroem            647\n",
       "77741                   rxnfp            620\n",
       "153772             flexneuart            244\n",
       "181735               falconcv            185\n",
       "250242             soltrannet             95"
      ]
     },
     "execution_count": 7,
     "metadata": {},
     "output_type": "execute_result"
    }
   ],
   "source": [
    "downloads = pd.read_csv(\"data/downloads.csv\")\n",
    "ps = [\n",
    "    \"yqn-pytorch-framework\",\n",
    "    \"soltrannet\",\n",
    "    \"rxnfp\",\n",
    "    \"flexneuart\",\n",
    "    \"falconcv\",\n",
    "    \"metroem\",\n",
    "]\n",
    "downloads[downloads[\"project\"].isin(ps)]"
   ]
  },
  {
   "cell_type": "code",
   "execution_count": 8,
   "metadata": {},
   "outputs": [
    {
     "name": "stdout",
     "output_type": "stream",
     "text": [
      "yqn-pytorch-framework 0 0\n",
      "soltrannet 0 0\n",
      "rxnfp 0 0\n",
      "flexneuart 0 0\n",
      "falconcv 0 0\n",
      "metroem 0 0\n"
     ]
    }
   ],
   "source": [
    "tf_edges = pd.read_csv(\n",
    "    \"data/TensorFlow/TensorFlow_edges.csv\", header=None, names=[\"down\", \"up\"]\n",
    ")\n",
    "pt_edges = pd.read_csv(\n",
    "    \"data/PyTorch/PyTorch_edges.csv\", header=None, names=[\"down\", \"up\"]\n",
    ")\n",
    "for name in ps:\n",
    "    print(\n",
    "        name,\n",
    "        len(tf_edges[tf_edges[\"up\"] == name]),\n",
    "        len(pt_edges[pt_edges[\"up\"] == name]),\n",
    "    )"
   ]
  },
  {
   "cell_type": "code",
   "execution_count": 9,
   "metadata": {},
   "outputs": [],
   "source": [
    "import pandas as pd\n",
    "from pymongo import MongoClient\n",
    "\n",
    "db = MongoClient(\"127.0.0.1\", 27017)[\"dlsc\"]\n",
    "tf_nodes = pd.DataFrame(db[\"TensorFlow_nodes\"].find({}, projection={\"_id\": 0}))\n",
    "pt_nodes = pd.DataFrame(db[\"PyTorch_nodes\"].find({}, projection={\"_id\": 0}))\n",
    "tf_nodes[\"upload_time\"] = pd.to_datetime(tf_nodes[\"upload_time\"])\n",
    "pt_nodes[\"upload_time\"] = pd.to_datetime(pt_nodes[\"upload_time\"])"
   ]
  },
  {
   "cell_type": "code",
   "execution_count": 10,
   "metadata": {},
   "outputs": [
    {
     "name": "stdout",
     "output_type": "stream",
     "text": [
      "ICSE 2022: 1022 packages in TensorFlow SC, 697 packages in PyTorch SC\n"
     ]
    }
   ],
   "source": [
    "icse22_tf_nodes = pd.read_csv(\"data/tensorflow_package_time.csv\", index_col=0)\n",
    "icse22_tf_nodes[\"start_time\"] = pd.to_datetime(icse22_tf_nodes[\"start_time\"])\n",
    "icse22_pt_nodes = pd.read_csv(\"data/torch_package_time.csv\", index_col=0)\n",
    "icse22_pt_nodes[\"start_time\"] = pd.to_datetime(icse22_pt_nodes[\"start_time\"])\n",
    "print(\n",
    "    f\"ICSE 2022: {len(icse22_tf_nodes)} packages in TensorFlow SC, {len(icse22_pt_nodes)} packages in PyTorch SC\"\n",
    ")"
   ]
  },
  {
   "cell_type": "code",
   "execution_count": 11,
   "metadata": {},
   "outputs": [
    {
     "name": "stdout",
     "output_type": "stream",
     "text": [
      "145910 packages with repositories in Libraries.io\n"
     ]
    }
   ],
   "source": [
    "import re\n",
    "\n",
    "pkg2repos = {}\n",
    "for doc in db[\"projects\"].find(\n",
    "    {\"Platform\": \"Pypi\", \"Repository URL\": {\"$regex\": re.compile(r\"https:\\/\\/\")}},\n",
    "    projection={\"_id\": 0, \"Name\": 1, \"Repository URL\": 1},\n",
    "):\n",
    "    name, repo = doc[\"Name\"], doc[\"Repository URL\"]\n",
    "    chunks = repo.split(\"//\")[1].split(\"/\")\n",
    "    if len(chunks) == 3:\n",
    "        if chunks[0] == \"github.com\":\n",
    "            pkg2repos[chunks[1] + \"_\" + chunks[2]] = name\n",
    "        else:\n",
    "            pkg2repos[chunks[0] + \"_\" + chunks[1] + \"_\" + chunks[2]] = name\n",
    "print(f\"{len(pkg2repos)} packages with repositories in Libraries.io\")"
   ]
  },
  {
   "cell_type": "code",
   "execution_count": 12,
   "metadata": {},
   "outputs": [
    {
     "name": "stdout",
     "output_type": "stream",
     "text": [
      "1417 packages in total in ICSE 22\n"
     ]
    }
   ],
   "source": [
    "icse22_tf_nodes[\"name\"] = icse22_tf_nodes[\"label\"].apply(\n",
    "    lambda x: pkg2repos.get(x, \"\").lower()\n",
    ")\n",
    "icse22_pt_nodes[\"name\"] = icse22_pt_nodes[\"label\"].apply(\n",
    "    lambda x: pkg2repos.get(x, \"\").lower()\n",
    ")\n",
    "icse22_all_nodes = set(icse22_pt_nodes[\"name\"]).union(set(icse22_tf_nodes[\"name\"]))\n",
    "print(f\"{len(icse22_all_nodes)} packages in total in ICSE 22\")"
   ]
  },
  {
   "cell_type": "code",
   "execution_count": 13,
   "metadata": {},
   "outputs": [
    {
     "name": "stdout",
     "output_type": "stream",
     "text": [
      "Before 2019-11-10, 706 packages in our TensorFlow SC, 418 packages in our PyTorch SC, 1087 packages in total\n",
      "315 shared packages between ours and ICSE 22\n"
     ]
    }
   ],
   "source": [
    "tf_nodes_comp = set(\n",
    "    tf_nodes[tf_nodes[\"upload_time\"] <= \"2019-11-10\"][\"name\"].str.lower()\n",
    ")\n",
    "pt_nodes_comp = set(\n",
    "    pt_nodes[pt_nodes[\"upload_time\"] <= \"2019-11-10\"][\"name\"].str.lower()\n",
    ")\n",
    "all_nodes_comp = tf_nodes_comp.union(pt_nodes_comp)\n",
    "print(\n",
    "    f\"Before 2019-11-10, {len(tf_nodes_comp)} packages in our TensorFlow SC, {len(pt_nodes_comp)} packages in our PyTorch SC, {len(all_nodes_comp)} packages in total\"\n",
    ")\n",
    "print(\n",
    "    f\"{len(all_nodes_comp.intersection(icse22_all_nodes))} shared packages between ours and ICSE 22\"\n",
    ")"
   ]
  },
  {
   "cell_type": "code",
   "execution_count": 14,
   "metadata": {},
   "outputs": [
    {
     "name": "stdout",
     "output_type": "stream",
     "text": [
      "5743721 distributions\n",
      "180925 distributions before 2019-11-10\n"
     ]
    }
   ],
   "source": [
    "all_pypi_pkgs = pd.DataFrame(\n",
    "    db[\"distribution_metadata\"].find(\n",
    "        {}, projection={\"_id\": 0, \"name\": 1, \"upload_time\": 1}\n",
    "    )\n",
    ")\n",
    "print(len(all_pypi_pkgs), \"distributions\")\n",
    "all_pypi_pkgs_comp = set(\n",
    "    all_pypi_pkgs[all_pypi_pkgs[\"upload_time\"] <= \"2019-11-10\"][\"name\"].str.lower()\n",
    ")\n",
    "print(len(all_pypi_pkgs_comp), \"distributions before 2019-11-10\")"
   ]
  },
  {
   "cell_type": "code",
   "execution_count": 15,
   "metadata": {},
   "outputs": [
    {
     "name": "stdout",
     "output_type": "stream",
     "text": [
      "233 packages with above average monthly downloads\n"
     ]
    }
   ],
   "source": [
    "download_2019 = (\n",
    "    pd.DataFrame({\"project\": list(all_nodes_comp)})\n",
    "    .merge(pd.read_csv(\"data/downloads_2019_11_10.csv\"), how=\"left\")\n",
    "    .fillna(0)\n",
    "    .rename(columns={\"project\": \"name\"})\n",
    ")\n",
    "most_download_2019 = download_2019[download_2019[\"num_downloads\"] >= 2218]\n",
    "print(len(most_download_2019), \"packages with above average monthly downloads\")\n",
    "most_download = pd.read_excel(\"data/most_downloaded_packages.xlsx\")\n",
    "most_download_2019 = most_download_2019[[\"name\"]].merge(most_download, how=\"left\")\n",
    "most_download_2019.loc[:, \"TensorFlow\"] = False\n",
    "most_download_2019.loc[:, \"PyTorch\"] = False\n",
    "most_download_2019.loc[\n",
    "    most_download_2019[\"name\"].isin(tf_nodes_comp), \"TensorFlow\"\n",
    "] = True\n",
    "most_download_2019.loc[most_download_2019[\"name\"].isin(pt_nodes_comp), \"PyTorch\"] = True\n",
    "most_download_2019[\n",
    "    [\n",
    "        \"name\",\n",
    "        \"PyTorch\",\n",
    "        \"TensorFlow\",\n",
    "        \"pypi_page\",\n",
    "        \"repository\",\n",
    "        \"description\",\n",
    "        \"final code\",\n",
    "    ]\n",
    "].to_csv(\"data/most_downloaded_packages_2019.csv\", index=False)"
   ]
  },
  {
   "cell_type": "code",
   "execution_count": 16,
   "metadata": {},
   "outputs": [
    {
     "name": "stdout",
     "output_type": "stream",
     "text": [
      "158 TensorFlow packages\n",
      "81\n",
      "68 PyTorch packages\n",
      "42\n"
     ]
    }
   ],
   "source": [
    "most_download_2019 = pd.read_excel(\"data/most_downloaded_packages_2019.xlsx\")\n",
    "most_download_2019[[\"Category\", \"Domain\"]] = most_download_2019[\"final code\"].str.split(\n",
    "    \"->\", expand=True\n",
    ")\n",
    "most_download_2019 = most_download_2019[most_download_2019[\"Category\"] != \"Unclear\"]\n",
    "print(len(most_download_2019[most_download_2019[\"TensorFlow\"]]), \"TensorFlow packages\")\n",
    "\n",
    "print(\n",
    "    len(\n",
    "        most_download_2019[\n",
    "            most_download_2019[\"TensorFlow\"]\n",
    "            & most_download_2019[\"Category\"].isin(\n",
    "                (\n",
    "                    \"Applications\",\n",
    "                    \"Sciences\",\n",
    "                    \"Probablistics Methods\",\n",
    "                    \"Reinforcement Learning\",\n",
    "                )\n",
    "            )\n",
    "        ]\n",
    "    )\n",
    ")\n",
    "\n",
    "print(len(most_download_2019[most_download_2019[\"PyTorch\"]]), \"PyTorch packages\")\n",
    "\n",
    "print(\n",
    "    len(\n",
    "        most_download_2019[\n",
    "            most_download_2019[\"PyTorch\"]\n",
    "            & most_download_2019[\"Category\"].isin(\n",
    "                (\n",
    "                    \"Applications\",\n",
    "                    \"Sciences\",\n",
    "                    \"Probablistics Methods\",\n",
    "                    \"Reinforcement Learning\",\n",
    "                )\n",
    "            )\n",
    "        ]\n",
    "    )\n",
    ")"
   ]
  },
  {
   "cell_type": "code",
   "execution_count": 17,
   "metadata": {},
   "outputs": [
    {
     "data": {
      "text/plain": [
       "Infrastructure            63\n",
       "Applications              55\n",
       "Sciences                  19\n",
       "Miscellaneous Tools        8\n",
       "Social Aspects             5\n",
       "Reinforcement Learning     5\n",
       "Probablistics Methods      2\n",
       "Education                  1\n",
       "Name: Category, dtype: int64"
      ]
     },
     "execution_count": 17,
     "metadata": {},
     "output_type": "execute_result"
    }
   ],
   "source": [
    "most_download_2019[most_download_2019[\"TensorFlow\"]][\"Category\"].value_counts()"
   ]
  },
  {
   "cell_type": "code",
   "execution_count": 18,
   "metadata": {},
   "outputs": [
    {
     "name": "stdout",
     "output_type": "stream",
     "text": [
      "NLP                    30\n",
      "Framework              19\n",
      "CV                     16\n",
      "Monitoring              8\n",
      "Miscellaneous Tools     8\n",
      "Name: Domain, dtype: int64\n",
      "NLP                    18\n",
      "CV                      9\n",
      "Framework               6\n",
      "Monitoring              5\n",
      "Miscellaneous Tools     5\n",
      "Name: Domain, dtype: int64\n"
     ]
    }
   ],
   "source": [
    "print(\n",
    "    most_download_2019[most_download_2019[\"TensorFlow\"]][\"Domain\"]\n",
    "    .value_counts()\n",
    "    .head(5)\n",
    ")\n",
    "print(\n",
    "    most_download_2019[most_download_2019[\"PyTorch\"]][\"Domain\"].value_counts().head(5)\n",
    ")"
   ]
  },
  {
   "cell_type": "code",
   "execution_count": 19,
   "metadata": {},
   "outputs": [],
   "source": [
    "tf_edges = pd.DataFrame(\n",
    "    db[\"TensorFlow_edges\"].find(\n",
    "        {},\n",
    "        projection={\n",
    "            \"_id\": 0,\n",
    "            \"name\": 1,\n",
    "            \"version\": 1,\n",
    "            \"dependency\": 1,\n",
    "            \"dependency_version\": 1,\n",
    "        },\n",
    "    )\n",
    ")\n",
    "pt_edges = pd.DataFrame(\n",
    "    db[\"PyTorch_edges\"].find(\n",
    "        {},\n",
    "        projection={\n",
    "            \"_id\": 0,\n",
    "            \"name\": 1,\n",
    "            \"version\": 1,\n",
    "            \"dependency\": 1,\n",
    "            \"dependency_version\": 1,\n",
    "        },\n",
    "    )\n",
    ")\n",
    "tf_nodes = pd.DataFrame(\n",
    "    db[\"TensorFlow_nodes\"].find(\n",
    "        {}, projection={\"_id\": 0, \"name\": 1, \"version\": 1, \"upload_time\": 1}\n",
    "    )\n",
    ")\n",
    "pt_nodes = pd.DataFrame(\n",
    "    db[\"PyTorch_nodes\"].find(\n",
    "        {}, projection={\"_id\": 0, \"name\": 1, \"version\": 1, \"upload_time\": 1}\n",
    "    )\n",
    ")\n",
    "tf_nodes[\"upload_time\"] = pd.to_datetime(tf_nodes[\"upload_time\"])\n",
    "pt_nodes[\"upload_time\"] = pd.to_datetime(pt_nodes[\"upload_time\"])\n",
    "tf_nodes_2019 = tf_nodes[tf_nodes[\"upload_time\"] <= \"2019-11-10\"]\n",
    "pt_nodes_2019 = pt_nodes[pt_nodes[\"upload_time\"] <= \"2019-11-10\"]\n",
    "tf_pkgs_2019 = set(tf_nodes_2019[\"name\"].str.lower())\n",
    "pt_pkgs_2019 = set(pt_nodes_2019[\"name\"].str.lower())\n",
    "download_2019 = pd.read_csv(\"data/downloads_2019_11_10.csv\")\n",
    "download_2019[\"project\"] = download_2019[\"project\"].str.lower()"
   ]
  },
  {
   "cell_type": "code",
   "execution_count": 20,
   "metadata": {},
   "outputs": [],
   "source": [
    "tf_nodes_download_2019 = (\n",
    "    pd.DataFrame({\"project\": list(tf_pkgs_2019)})\n",
    "    .merge(download_2019, how=\"left\")\n",
    "    .fillna(0)\n",
    "    .rename(columns={\"project\": \"name\"})\n",
    ")\n",
    "pt_nodes_download_2019 = (\n",
    "    pd.DataFrame({\"project\": list(pt_pkgs_2019)})\n",
    "    .merge(download_2019, how=\"left\")\n",
    "    .fillna(0)\n",
    "    .rename(columns={\"project\": \"name\"})\n",
    ")"
   ]
  },
  {
   "cell_type": "code",
   "execution_count": 21,
   "metadata": {},
   "outputs": [
    {
     "data": {
      "text/plain": [
       "(315, 772)"
      ]
     },
     "execution_count": 21,
     "metadata": {},
     "output_type": "execute_result"
    }
   ],
   "source": [
    "shared_packages = tf_pkgs_2019.union(pt_pkgs_2019).intersection(icse22_all_nodes)\n",
    "our_unique_packages = tf_pkgs_2019.union(pt_pkgs_2019) - icse22_all_nodes\n",
    "len(shared_packages), len(our_unique_packages)"
   ]
  },
  {
   "cell_type": "code",
   "execution_count": 22,
   "metadata": {},
   "outputs": [
    {
     "data": {
      "text/plain": [
       "185"
      ]
     },
     "execution_count": 22,
     "metadata": {},
     "output_type": "execute_result"
    }
   ],
   "source": [
    "our_unique_download = (\n",
    "    pd.DataFrame({\"project\": list(our_unique_packages)})\n",
    "    .merge(download_2019, how=\"left\")\n",
    "    .fillna(0)\n",
    "    .sort_values(\"num_downloads\", ascending=False)\n",
    ")\n",
    "len(our_unique_download[our_unique_download[\"num_downloads\"] >= 2218])"
   ]
  },
  {
   "cell_type": "code",
   "execution_count": 23,
   "metadata": {},
   "outputs": [
    {
     "name": "stdout",
     "output_type": "stream",
     "text": [
      "115 packages have dependents\n",
      "85 not-covered packages have dependents\n"
     ]
    }
   ],
   "source": [
    "dependents_info = pd.concat(\n",
    "    (\n",
    "        tf_edges.merge(tf_nodes_2019[[\"name\", \"version\"]]).merge(\n",
    "            tf_nodes_2019[[\"name\", \"version\"]].rename(\n",
    "                columns={\"name\": \"dependency\", \"version\": \"dependency_version\"}\n",
    "            )\n",
    "        ),\n",
    "        pt_edges.merge(pt_nodes_2019[[\"name\", \"version\"]]).merge(\n",
    "            pt_nodes_2019[[\"name\", \"version\"]].rename(\n",
    "                columns={\"name\": \"dependency\", \"version\": \"dependency_version\"}\n",
    "            )\n",
    "        ),\n",
    "    )\n",
    ")\n",
    "print(dependents_info[\"dependency\"].nunique(), \"packages have dependents\")\n",
    "print(\n",
    "    dependents_info[\n",
    "        dependents_info[\"dependency\"].isin(\n",
    "            our_unique_packages\n",
    "            - {\"tensorflow\", \"tensorflow-cpu\", \"tensorflow-gpu\", \"torch\"}\n",
    "        )\n",
    "    ][\"dependency\"].nunique(),\n",
    "    \"not-covered packages have dependents\",\n",
    ")"
   ]
  },
  {
   "cell_type": "code",
   "execution_count": 24,
   "metadata": {},
   "outputs": [
    {
     "data": {
      "text/plain": [
       "dependency\n",
       "torchvision                130\n",
       "torchtext                   21\n",
       "pytorch-transformers        13\n",
       "tensorflow-probability      12\n",
       "pytorch-pretrained-bert     11\n",
       "Name: name, dtype: int64"
      ]
     },
     "execution_count": 24,
     "metadata": {},
     "output_type": "execute_result"
    }
   ],
   "source": [
    "dependents_info[\n",
    "    dependents_info[\"dependency\"].isin(\n",
    "        our_unique_packages\n",
    "        - {\"tensorflow\", \"tensorflow-cpu\", \"tensorflow-gpu\", \"torch\"}\n",
    "    )\n",
    "].groupby(\"dependency\")[\"name\"].nunique().sort_values(ascending=False).head()"
   ]
  },
  {
   "cell_type": "code",
   "execution_count": 52,
   "metadata": {},
   "outputs": [],
   "source": [
    "icse_unique_packages = list(icse22_all_nodes - (tf_pkgs_2019.union(pt_pkgs_2019)))\n",
    "dist_meta = pd.DataFrame(\n",
    "    db[\"distribution_metadata\"].find(\n",
    "        {},\n",
    "        projection={\n",
    "            \"_id\": 0,\n",
    "            \"name\": 1,\n",
    "            \"version\": 1,\n",
    "            \"requires_dist\": 1,\n",
    "            \"upload_time\": 1,\n",
    "            \"packagetype\": 1,\n",
    "        },\n",
    "    )\n",
    ")\n",
    "icse_unique_pkg_meta = dist_meta[dist_meta[\"name\"].isin(icse_unique_packages)].copy()\n",
    "icse_unique_pkg_meta[\"upload_time\"] = pd.to_datetime(\n",
    "    icse_unique_pkg_meta[\"upload_time\"]\n",
    ")\n",
    "icse_unique_pkg_meta = icse_unique_pkg_meta[\n",
    "    icse_unique_pkg_meta[\"upload_time\"] <= \"2019-11-10\"\n",
    "]\n",
    "icse_unique_latest = (\n",
    "    icse_unique_pkg_meta[icse_unique_pkg_meta[\"requires_dist\"].str.len() > 0]\n",
    "    .sort_values(\"upload_time\", ascending=False)\n",
    "    .drop_duplicates(\"name\")\n",
    ")\n",
    "icse_unique_latest[icse_unique_latest[\"requires_dist\"].str.len() > 0].sample(\n",
    "    100, random_state=42\n",
    ")[[\"name\", \"version\", \"requires_dist\"]].to_csv(\n",
    "    \"data/unneeded_dependency.csv\", index=False\n",
    ")"
   ]
  },
  {
   "cell_type": "code",
   "execution_count": null,
   "metadata": {},
   "outputs": [],
   "source": []
  }
 ],
 "metadata": {
  "kernelspec": {
   "display_name": "dlsc",
   "language": "python",
   "name": "python3"
  },
  "language_info": {
   "codemirror_mode": {
    "name": "ipython",
    "version": 3
   },
   "file_extension": ".py",
   "mimetype": "text/x-python",
   "name": "python",
   "nbconvert_exporter": "python",
   "pygments_lexer": "ipython3",
   "version": "3.8.16"
  }
 },
 "nbformat": 4,
 "nbformat_minor": 2
}

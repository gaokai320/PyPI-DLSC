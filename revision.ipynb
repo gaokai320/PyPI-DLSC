{
 "cells": [
  {
   "cell_type": "code",
   "execution_count": 12,
   "metadata": {},
   "outputs": [
    {
     "data": {
      "text/plain": [
       "(334, 344)"
      ]
     },
     "execution_count": 12,
     "metadata": {},
     "output_type": "execute_result"
    }
   ],
   "source": [
    "import pandas as pd\n",
    "\n",
    "rand_sample = pd.read_excel(\"data/random_sample.xlsx\")\n",
    "len(rand_sample[rand_sample[\"TensorFlow\"]]), len(rand_sample[rand_sample[\"PyTorch\"]])"
   ]
  },
  {
   "cell_type": "code",
   "execution_count": 13,
   "metadata": {},
   "outputs": [
    {
     "name": "stdout",
     "output_type": "stream",
     "text": [
      "71\n"
     ]
    },
    {
     "data": {
      "text/plain": [
       "(298, 309)"
      ]
     },
     "execution_count": 13,
     "metadata": {},
     "output_type": "execute_result"
    }
   ],
   "source": [
    "print(len(rand_sample[rand_sample[\"Category\"] == \"Unclear\"]))\n",
    "rand_sample = rand_sample[rand_sample[\"Category\"] != \"Unclear\"]\n",
    "len(rand_sample[rand_sample[\"TensorFlow\"]]), len(rand_sample[rand_sample[\"PyTorch\"]])"
   ]
  },
  {
   "cell_type": "code",
   "execution_count": 15,
   "metadata": {},
   "outputs": [
    {
     "name": "stdout",
     "output_type": "stream",
     "text": [
      "TensorFlow 89.59731543624162 42.61744966442953 28.187919463087248\n",
      "PyTorch 87.37864077669903 52.103559870550164 20.388349514563107\n"
     ]
    }
   ],
   "source": [
    "for f in [\"TensorFlow\", \"PyTorch\"]:\n",
    "    print(\n",
    "        f,\n",
    "        len(\n",
    "            rand_sample[\n",
    "                rand_sample[f]\n",
    "                & (\n",
    "                    rand_sample[\"Category\"].isin(\n",
    "                        [\"Applications\", \"Infrastructure\", \"Sciences\"]\n",
    "                    )\n",
    "                )\n",
    "            ]\n",
    "        )\n",
    "        / len(rand_sample[rand_sample[f]])\n",
    "        * 100,\n",
    "        len(rand_sample[rand_sample[f] & (rand_sample[\"Category\"] == \"Applications\")])\n",
    "        / len(rand_sample[rand_sample[f]])\n",
    "        * 100,\n",
    "        len(rand_sample[rand_sample[f] & (rand_sample[\"Category\"] == \"Infrastructure\")])\n",
    "        / len(rand_sample[rand_sample[f]])\n",
    "        * 100,\n",
    "    )"
   ]
  },
  {
   "cell_type": "code",
   "execution_count": 16,
   "metadata": {},
   "outputs": [
    {
     "data": {
      "text/plain": [
       "(100, 6)"
      ]
     },
     "execution_count": 16,
     "metadata": {},
     "output_type": "execute_result"
    }
   ],
   "source": [
    "missing_dependencies = pd.read_excel(\"data/missing_dependencies.xlsx\")\n",
    "len(missing_dependencies), len(missing_dependencies[missing_dependencies[\"Match\"] == 0])"
   ]
  },
  {
   "cell_type": "code",
   "execution_count": 18,
   "metadata": {},
   "outputs": [
    {
     "name": "stdout",
     "output_type": "stream",
     "text": [
      "yqn-pytorch-framework-0.3.0\n",
      "soltrannet-1.0.0\n",
      "rxnfp-0.1.0\n",
      "flexneuart-1.1\n",
      "falconcv-0.1.2\n",
      "metroem-0.0.7\n"
     ]
    }
   ],
   "source": [
    "for name in missing_dependencies[missing_dependencies[\"Match\"] == 0][\"Package\"]:\n",
    "    print(name)"
   ]
  },
  {
   "cell_type": "code",
   "execution_count": 20,
   "metadata": {},
   "outputs": [
    {
     "data": {
      "text/html": [
       "<div>\n",
       "<style scoped>\n",
       "    .dataframe tbody tr th:only-of-type {\n",
       "        vertical-align: middle;\n",
       "    }\n",
       "\n",
       "    .dataframe tbody tr th {\n",
       "        vertical-align: top;\n",
       "    }\n",
       "\n",
       "    .dataframe thead th {\n",
       "        text-align: right;\n",
       "    }\n",
       "</style>\n",
       "<table border=\"1\" class=\"dataframe\">\n",
       "  <thead>\n",
       "    <tr style=\"text-align: right;\">\n",
       "      <th></th>\n",
       "      <th>project</th>\n",
       "      <th>num_downloads</th>\n",
       "    </tr>\n",
       "  </thead>\n",
       "  <tbody>\n",
       "    <tr>\n",
       "      <th>58704</th>\n",
       "      <td>yqn-pytorch-framework</td>\n",
       "      <td>894</td>\n",
       "    </tr>\n",
       "    <tr>\n",
       "      <th>75279</th>\n",
       "      <td>metroem</td>\n",
       "      <td>647</td>\n",
       "    </tr>\n",
       "    <tr>\n",
       "      <th>77741</th>\n",
       "      <td>rxnfp</td>\n",
       "      <td>620</td>\n",
       "    </tr>\n",
       "    <tr>\n",
       "      <th>153772</th>\n",
       "      <td>flexneuart</td>\n",
       "      <td>244</td>\n",
       "    </tr>\n",
       "    <tr>\n",
       "      <th>181735</th>\n",
       "      <td>falconcv</td>\n",
       "      <td>185</td>\n",
       "    </tr>\n",
       "    <tr>\n",
       "      <th>250242</th>\n",
       "      <td>soltrannet</td>\n",
       "      <td>95</td>\n",
       "    </tr>\n",
       "  </tbody>\n",
       "</table>\n",
       "</div>"
      ],
      "text/plain": [
       "                      project  num_downloads\n",
       "58704   yqn-pytorch-framework            894\n",
       "75279                 metroem            647\n",
       "77741                   rxnfp            620\n",
       "153772             flexneuart            244\n",
       "181735               falconcv            185\n",
       "250242             soltrannet             95"
      ]
     },
     "execution_count": 20,
     "metadata": {},
     "output_type": "execute_result"
    }
   ],
   "source": [
    "downloads = pd.read_csv(\"data/downloads.csv\")\n",
    "ps = [\n",
    "    \"yqn-pytorch-framework\",\n",
    "    \"soltrannet\",\n",
    "    \"rxnfp\",\n",
    "    \"flexneuart\",\n",
    "    \"falconcv\",\n",
    "    \"metroem\",\n",
    "]\n",
    "downloads[downloads[\"project\"].isin(ps)]"
   ]
  },
  {
   "cell_type": "code",
   "execution_count": 28,
   "metadata": {},
   "outputs": [
    {
     "name": "stdout",
     "output_type": "stream",
     "text": [
      "yqn-pytorch-framework 0 0\n",
      "soltrannet 0 0\n",
      "rxnfp 0 0\n",
      "flexneuart 0 0\n",
      "falconcv 0 0\n",
      "metroem 0 0\n"
     ]
    }
   ],
   "source": [
    "tf_edges = pd.read_csv(\n",
    "    \"data/TensorFlow/TensorFlow_edges.csv\", header=None, names=[\"down\", \"up\"]\n",
    ")\n",
    "pt_edges = pd.read_csv(\n",
    "    \"data/PyTorch/PyTorch_edges.csv\", header=None, names=[\"down\", \"up\"]\n",
    ")\n",
    "for name in ps:\n",
    "    print(\n",
    "        name,\n",
    "        len(tf_edges[tf_edges[\"up\"] == name]),\n",
    "        len(pt_edges[pt_edges[\"up\"] == name]),\n",
    "    )"
   ]
  },
  {
   "cell_type": "code",
   "execution_count": null,
   "metadata": {},
   "outputs": [],
   "source": []
  }
 ],
 "metadata": {
  "kernelspec": {
   "display_name": "dlsc",
   "language": "python",
   "name": "python3"
  },
  "language_info": {
   "codemirror_mode": {
    "name": "ipython",
    "version": 3
   },
   "file_extension": ".py",
   "mimetype": "text/x-python",
   "name": "python",
   "nbconvert_exporter": "python",
   "pygments_lexer": "ipython3",
   "version": "3.8.16"
  }
 },
 "nbformat": 4,
 "nbformat_minor": 2
}

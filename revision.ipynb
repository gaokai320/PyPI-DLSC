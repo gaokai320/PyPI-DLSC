{
 "cells": [
  {
   "cell_type": "code",
   "execution_count": 12,
   "metadata": {},
   "outputs": [
    {
     "data": {
      "text/plain": [
       "(334, 344)"
      ]
     },
     "execution_count": 12,
     "metadata": {},
     "output_type": "execute_result"
    }
   ],
   "source": [
    "import pandas as pd\n",
    "\n",
    "rand_sample = pd.read_excel(\"data/random_sample.xlsx\")\n",
    "len(rand_sample[rand_sample[\"TensorFlow\"]]), len(rand_sample[rand_sample[\"PyTorch\"]])"
   ]
  },
  {
   "cell_type": "code",
   "execution_count": 13,
   "metadata": {},
   "outputs": [
    {
     "name": "stdout",
     "output_type": "stream",
     "text": [
      "71\n"
     ]
    },
    {
     "data": {
      "text/plain": [
       "(298, 309)"
      ]
     },
     "execution_count": 13,
     "metadata": {},
     "output_type": "execute_result"
    }
   ],
   "source": [
    "print(len(rand_sample[rand_sample[\"Category\"] == \"Unclear\"]))\n",
    "rand_sample = rand_sample[rand_sample[\"Category\"] != \"Unclear\"]\n",
    "len(rand_sample[rand_sample[\"TensorFlow\"]]), len(rand_sample[rand_sample[\"PyTorch\"]])"
   ]
  },
  {
   "cell_type": "code",
   "execution_count": 15,
   "metadata": {},
   "outputs": [
    {
     "name": "stdout",
     "output_type": "stream",
     "text": [
      "TensorFlow 89.59731543624162 42.61744966442953 28.187919463087248\n",
      "PyTorch 87.37864077669903 52.103559870550164 20.388349514563107\n"
     ]
    }
   ],
   "source": [
    "for f in [\"TensorFlow\", \"PyTorch\"]:\n",
    "    print(\n",
    "        f,\n",
    "        len(\n",
    "            rand_sample[\n",
    "                rand_sample[f]\n",
    "                & (\n",
    "                    rand_sample[\"Category\"].isin(\n",
    "                        [\"Applications\", \"Infrastructure\", \"Sciences\"]\n",
    "                    )\n",
    "                )\n",
    "            ]\n",
    "        )\n",
    "        / len(rand_sample[rand_sample[f]])\n",
    "        * 100,\n",
    "        len(rand_sample[rand_sample[f] & (rand_sample[\"Category\"] == \"Applications\")])\n",
    "        / len(rand_sample[rand_sample[f]])\n",
    "        * 100,\n",
    "        len(rand_sample[rand_sample[f] & (rand_sample[\"Category\"] == \"Infrastructure\")])\n",
    "        / len(rand_sample[rand_sample[f]])\n",
    "        * 100,\n",
    "    )"
   ]
  },
  {
   "cell_type": "code",
   "execution_count": null,
   "metadata": {},
   "outputs": [],
   "source": []
  }
 ],
 "metadata": {
  "kernelspec": {
   "display_name": "dlsc",
   "language": "python",
   "name": "python3"
  },
  "language_info": {
   "codemirror_mode": {
    "name": "ipython",
    "version": 3
   },
   "file_extension": ".py",
   "mimetype": "text/x-python",
   "name": "python",
   "nbconvert_exporter": "python",
   "pygments_lexer": "ipython3",
   "version": "3.8.16"
  }
 },
 "nbformat": 4,
 "nbformat_minor": 2
}

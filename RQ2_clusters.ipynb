{
 "cells": [
  {
   "cell_type": "code",
   "execution_count": 1,
   "id": "52416957-ea99-4a94-8f72-0bbf8b174bef",
   "metadata": {
    "execution": {
     "iopub.execute_input": "2023-02-02T06:27:32.879452Z",
     "iopub.status.busy": "2023-02-02T06:27:32.878814Z",
     "iopub.status.idle": "2023-02-02T06:27:33.185606Z",
     "shell.execute_reply": "2023-02-02T06:27:33.185209Z",
     "shell.execute_reply.started": "2023-02-02T06:27:32.879313Z"
    },
    "tags": []
   },
   "outputs": [
    {
     "data": {
      "text/html": [
       "<div>\n",
       "<style scoped>\n",
       "    .dataframe tbody tr th:only-of-type {\n",
       "        vertical-align: middle;\n",
       "    }\n",
       "\n",
       "    .dataframe tbody tr th {\n",
       "        vertical-align: top;\n",
       "    }\n",
       "\n",
       "    .dataframe thead th {\n",
       "        text-align: right;\n",
       "    }\n",
       "</style>\n",
       "<table border=\"1\" class=\"dataframe\">\n",
       "  <thead>\n",
       "    <tr style=\"text-align: right;\">\n",
       "      <th></th>\n",
       "      <th>name</th>\n",
       "      <th>dependency</th>\n",
       "    </tr>\n",
       "  </thead>\n",
       "  <tbody>\n",
       "    <tr>\n",
       "      <th>0</th>\n",
       "      <td>hammer-sh</td>\n",
       "      <td>tensorflow</td>\n",
       "    </tr>\n",
       "    <tr>\n",
       "      <th>1</th>\n",
       "      <td>dlomix</td>\n",
       "      <td>tensorflow</td>\n",
       "    </tr>\n",
       "    <tr>\n",
       "      <th>2</th>\n",
       "      <td>artap</td>\n",
       "      <td>tensorflow</td>\n",
       "    </tr>\n",
       "    <tr>\n",
       "      <th>3</th>\n",
       "      <td>wikirec</td>\n",
       "      <td>tensorflow</td>\n",
       "    </tr>\n",
       "    <tr>\n",
       "      <th>4</th>\n",
       "      <td>hipomap</td>\n",
       "      <td>tensorflow</td>\n",
       "    </tr>\n",
       "  </tbody>\n",
       "</table>\n",
       "</div>"
      ],
      "text/plain": [
       "        name  dependency\n",
       "0  hammer-sh  tensorflow\n",
       "1     dlomix  tensorflow\n",
       "2      artap  tensorflow\n",
       "3    wikirec  tensorflow\n",
       "4    hipomap  tensorflow"
      ]
     },
     "execution_count": 1,
     "metadata": {},
     "output_type": "execute_result"
    }
   ],
   "source": [
    "import pandas as pd\n",
    "from pymongo import MongoClient\n",
    "\n",
    "tf_edges = pd.read_csv(\n",
    "    \"data/TensorFlow/TensorFlow_edges.csv\", names=[\"name\", \"dependency\"]\n",
    ")\n",
    "pt_edges = pd.read_csv(\"data/PyTorch/PyTorch_edges.csv\", names=[\"name\", \"dependency\"])\n",
    "tf_edges.head()"
   ]
  },
  {
   "cell_type": "code",
   "execution_count": 2,
   "id": "6c0361fa-ab79-4412-9000-a82d41b388bf",
   "metadata": {
    "execution": {
     "iopub.execute_input": "2022-09-02T04:22:31.298801Z",
     "iopub.status.busy": "2022-09-02T04:22:31.298658Z",
     "iopub.status.idle": "2022-09-02T04:22:31.447800Z",
     "shell.execute_reply": "2022-09-02T04:22:31.447108Z",
     "shell.execute_reply.started": "2022-09-02T04:22:31.298784Z"
    },
    "tags": []
   },
   "outputs": [],
   "source": [
    "import igraph as ig\n",
    "import leidenalg as la\n",
    "import networkx as nx\n",
    "\n",
    "\n",
    "def get_communities(framework: str, package_names: list, seed=None):\n",
    "    vertices = []\n",
    "    edges = []\n",
    "    with open(f\"data/{framework}/{framework}_edges.csv\") as f:\n",
    "        for line in f:\n",
    "            down_pkg, up_pkg = line.strip(\"\\n\").split(\",\")\n",
    "            has_layer1_pkg = (down_pkg in package_names) or (up_pkg in package_names)\n",
    "            if not has_layer1_pkg:\n",
    "                vertices.append(down_pkg)\n",
    "                vertices.append(up_pkg)\n",
    "                edges.append((up_pkg, down_pkg))\n",
    "    vertices = list(set(vertices))\n",
    "    nx_dig = nx.DiGraph()\n",
    "    nx_dig.add_edges_from(edges, weight=1)\n",
    "    edges = [(vertices.index(u), vertices.index(d)) for u, d in edges]\n",
    "    ig_dig = ig.Graph(directed=True)\n",
    "    ig_dig.add_vertices(len(vertices))\n",
    "    ig_dig.add_edges(edges)\n",
    "    partition = la.find_partition(\n",
    "        ig_dig, la.ModularityVertexPartition, n_iterations=2, seed=seed\n",
    "    )\n",
    "    comm_node_centrality = []\n",
    "    for par in partition:\n",
    "        subg = nx_dig.subgraph([vertices[v] for v in par])\n",
    "        centrality = nx.katz_centrality(subg.reverse())\n",
    "        centrality = sorted(centrality.items(), key=lambda x: x[0], reverse=True)\n",
    "        comm_node_centrality.append(\n",
    "            sorted(centrality, key=lambda x: x[1], reverse=True)\n",
    "        )\n",
    "\n",
    "    with open(f\"data/{framework}/{framework}_communities\", \"w\") as outf:\n",
    "        tmp = sorted(comm_node_centrality, key=lambda x: x[0][0].lower())\n",
    "        tmp = sorted(tmp, key=lambda x: len(x), reverse=True)\n",
    "        for comm in tmp:\n",
    "            nodes = [v[0] for v in comm]\n",
    "            outf.write(\", \".join(nodes))\n",
    "            outf.write(\"\\n\")\n",
    "    return nx_dig, partition, comm_node_centrality"
   ]
  },
  {
   "cell_type": "code",
   "execution_count": 3,
   "id": "9fa60be8-0b7b-408b-bce4-48599baf3f12",
   "metadata": {
    "execution": {
     "iopub.execute_input": "2022-09-02T04:22:31.449346Z",
     "iopub.status.busy": "2022-09-02T04:22:31.449113Z",
     "iopub.status.idle": "2022-09-02T04:22:31.457456Z",
     "shell.execute_reply": "2022-09-02T04:22:31.456747Z",
     "shell.execute_reply.started": "2022-09-02T04:22:31.449326Z"
    },
    "tags": []
   },
   "outputs": [],
   "source": [
    "def comm_pkg_info(comm: list):\n",
    "    info_list = []\n",
    "    for pkg in comm:\n",
    "        info_list.append([pkg, f\"https://pypi.org/project/{pkg}/\"])\n",
    "    return pd.DataFrame(\n",
    "        info_list,\n",
    "        columns=[\n",
    "            \"name\",\n",
    "            \"project_urls\",\n",
    "        ],\n",
    "    )\n",
    "\n",
    "\n",
    "def plot_communities(framework: str, package_names: list):\n",
    "    comm_nodes = [\n",
    "        line.strip(\"\\n\").split(\", \")\n",
    "        for line in open(f\"data/{framework}/{framework}_communities\")\n",
    "    ]\n",
    "    print(len(comm_nodes))\n",
    "\n",
    "    df = pd.DataFrame()\n",
    "    for i, comm in enumerate(comm_nodes):\n",
    "        tmp_df = comm_pkg_info(comm)\n",
    "        tmp_df.loc[:, \"comm_id\"] = i\n",
    "        df = df.append(tmp_df)\n",
    "    df.to_csv(f\"data/{framework}/{framework}_community_info.csv\", index=False)\n",
    "\n",
    "    edges = []\n",
    "    with open(f\"data/{framework}/{framework}_edges.csv\") as f:\n",
    "        for line in f:\n",
    "            down_pkg, up_pkg = line.strip(\"\\n\").split(\",\")\n",
    "            has_layer1_pkg = (down_pkg in package_names) or (up_pkg in package_names)\n",
    "            if not has_layer1_pkg:\n",
    "                edges.append((up_pkg, down_pkg))\n",
    "    nx_dig = nx.DiGraph()\n",
    "    nx_dig.add_edges_from(edges, weight=1)\n",
    "\n",
    "    for i, comm in enumerate(comm_nodes):\n",
    "        subg = nx_dig.subgraph(comm)\n",
    "        ig_graph = ig.Graph.from_networkx(subg)\n",
    "        ig.plot(\n",
    "            ig_graph,\n",
    "            f\"figures/{framework}/community_{i:03d}_{comm[0]}.pdf\",\n",
    "            vertex_size=8,\n",
    "            edge_arrow_width=0.6,\n",
    "            edge_arrow_size=0.6,\n",
    "        )"
   ]
  },
  {
   "cell_type": "code",
   "execution_count": 4,
   "id": "8d9bfe9a-d45e-40ef-b6f7-6f4cc6e491b9",
   "metadata": {
    "execution": {
     "iopub.execute_input": "2022-09-02T04:22:31.458226Z",
     "iopub.status.busy": "2022-09-02T04:22:31.458100Z",
     "iopub.status.idle": "2022-09-02T04:22:32.387255Z",
     "shell.execute_reply": "2022-09-02T04:22:32.386579Z",
     "shell.execute_reply.started": "2022-09-02T04:22:31.458211Z"
    },
    "tags": []
   },
   "outputs": [
    {
     "name": "stdout",
     "output_type": "stream",
     "text": [
      "131\n"
     ]
    }
   ],
   "source": [
    "plot_communities(\"TensorFlow\", [\"tensorflow\", \"tensorflow-cpu\", \"tensorflow-gpu\"])"
   ]
  },
  {
   "cell_type": "code",
   "execution_count": 5,
   "id": "1543f8a4-9281-4969-8b53-80d5d1785825",
   "metadata": {
    "execution": {
     "iopub.execute_input": "2022-09-02T04:22:32.388323Z",
     "iopub.status.busy": "2022-09-02T04:22:32.388072Z",
     "iopub.status.idle": "2022-09-02T04:22:33.462797Z",
     "shell.execute_reply": "2022-09-02T04:22:33.462175Z",
     "shell.execute_reply.started": "2022-09-02T04:22:32.388303Z"
    },
    "tags": []
   },
   "outputs": [
    {
     "name": "stdout",
     "output_type": "stream",
     "text": [
      "100\n"
     ]
    }
   ],
   "source": [
    "plot_communities(\"PyTorch\", [\"torch\"])"
   ]
  },
  {
   "cell_type": "code",
   "execution_count": 2,
   "id": "b4cd2053-0054-4e79-b368-dca9b333b271",
   "metadata": {
    "execution": {
     "iopub.execute_input": "2023-02-02T06:27:40.985007Z",
     "iopub.status.busy": "2023-02-02T06:27:40.984440Z",
     "iopub.status.idle": "2023-02-02T06:27:41.155505Z",
     "shell.execute_reply": "2023-02-02T06:27:41.154931Z",
     "shell.execute_reply.started": "2023-02-02T06:27:40.984955Z"
    },
    "tags": []
   },
   "outputs": [
    {
     "data": {
      "text/html": [
       "<div>\n",
       "<style scoped>\n",
       "    .dataframe tbody tr th:only-of-type {\n",
       "        vertical-align: middle;\n",
       "    }\n",
       "\n",
       "    .dataframe tbody tr th {\n",
       "        vertical-align: top;\n",
       "    }\n",
       "\n",
       "    .dataframe thead th {\n",
       "        text-align: right;\n",
       "    }\n",
       "</style>\n",
       "<table border=\"1\" class=\"dataframe\">\n",
       "  <thead>\n",
       "    <tr style=\"text-align: right;\">\n",
       "      <th></th>\n",
       "      <th>Representative</th>\n",
       "      <th>Size</th>\n",
       "      <th>Inspector1</th>\n",
       "      <th>Inspector2</th>\n",
       "      <th>Final</th>\n",
       "    </tr>\n",
       "  </thead>\n",
       "  <tbody>\n",
       "    <tr>\n",
       "      <th>0</th>\n",
       "      <td>torchvision</td>\n",
       "      <td>657</td>\n",
       "      <td>Tree</td>\n",
       "      <td>Tree</td>\n",
       "      <td>Tree</td>\n",
       "    </tr>\n",
       "    <tr>\n",
       "      <th>1</th>\n",
       "      <td>pytorch-lightning</td>\n",
       "      <td>192</td>\n",
       "      <td>Forest</td>\n",
       "      <td>Tree</td>\n",
       "      <td>Forest</td>\n",
       "    </tr>\n",
       "    <tr>\n",
       "      <th>2</th>\n",
       "      <td>fastai</td>\n",
       "      <td>98</td>\n",
       "      <td>Forest</td>\n",
       "      <td>Forest</td>\n",
       "      <td>Forest</td>\n",
       "    </tr>\n",
       "    <tr>\n",
       "      <th>3</th>\n",
       "      <td>torchaudio</td>\n",
       "      <td>96</td>\n",
       "      <td>Forest</td>\n",
       "      <td>Forest</td>\n",
       "      <td>Forest</td>\n",
       "    </tr>\n",
       "    <tr>\n",
       "      <th>4</th>\n",
       "      <td>torchtext</td>\n",
       "      <td>94</td>\n",
       "      <td>Forest</td>\n",
       "      <td>Forest</td>\n",
       "      <td>Forest</td>\n",
       "    </tr>\n",
       "  </tbody>\n",
       "</table>\n",
       "</div>"
      ],
      "text/plain": [
       "      Representative  Size Inspector1 Inspector2   Final\n",
       "0        torchvision   657       Tree       Tree    Tree\n",
       "1  pytorch-lightning   192     Forest       Tree  Forest\n",
       "2             fastai    98     Forest     Forest  Forest\n",
       "3         torchaudio    96     Forest     Forest  Forest\n",
       "4          torchtext    94     Forest     Forest  Forest"
      ]
     },
     "execution_count": 2,
     "metadata": {},
     "output_type": "execute_result"
    }
   ],
   "source": [
    "import pandas as pd\n",
    "tf_shapes = pd.read_excel(\"data/community types.xlsx\", sheet_name=\"TensorFlow\")\n",
    "pt_shapes = pd.read_excel(\"data/community types.xlsx\", sheet_name=\"PyTorch\")\n",
    "pt_shapes.head()"
   ]
  },
  {
   "cell_type": "code",
   "execution_count": 3,
   "id": "83d85dec-2743-4ef6-b474-24580287b86b",
   "metadata": {
    "execution": {
     "iopub.execute_input": "2023-02-02T06:27:45.327405Z",
     "iopub.status.busy": "2023-02-02T06:27:45.326960Z",
     "iopub.status.idle": "2023-02-02T06:27:45.385712Z",
     "shell.execute_reply": "2023-02-02T06:27:45.385088Z",
     "shell.execute_reply.started": "2023-02-02T06:27:45.327367Z"
    },
    "tags": []
   },
   "outputs": [
    {
     "data": {
      "text/plain": [
       "(0.9072512647554807, 0.895543545672012, 0.9183117767188563)"
      ]
     },
     "execution_count": 3,
     "metadata": {},
     "output_type": "execute_result"
    }
   ],
   "source": [
    "def calculate_cohen(rater1, rater2, categories):\n",
    "    df = pd.DataFrame({\"rater1\": rater1, \"rater2\": rater2})\n",
    "    df = (\n",
    "        df.groupby([\"rater1\", \"rater2\"])\n",
    "        .size()\n",
    "        .reset_index(name=\"count\")\n",
    "        .pivot_table(index=\"rater1\", columns=\"rater2\", values=\"count\", fill_value=0)\n",
    "    )\n",
    "    df = df[categories]\n",
    "    df = df.reindex(categories)\n",
    "\n",
    "    total_items = df.values.sum()\n",
    "    sum1 = df.sum(axis=1)\n",
    "    sum2 = df.sum(axis=0)\n",
    "\n",
    "    p_e = sum(sum1 * sum2) / total_items**2\n",
    "    p_0 = sum([df.loc[s, s] for s in categories]) / total_items\n",
    "\n",
    "    return (p_0 - p_e) / (1 - p_e)\n",
    "\n",
    "\n",
    "all_shapes = tf_shapes.append(pt_shapes, ignore_index=True)\n",
    "\n",
    "calculate_cohen(\n",
    "    all_shapes[\"Inspector1\"],\n",
    "    all_shapes[\"Inspector2\"],\n",
    "    all_shapes[\"Final\"].unique(),\n",
    "), calculate_cohen(\n",
    "    tf_shapes[\"Inspector1\"],\n",
    "    tf_shapes[\"Inspector2\"],\n",
    "    tf_shapes[\"Final\"].unique(),\n",
    "), calculate_cohen(\n",
    "    pt_shapes[\"Inspector1\"],\n",
    "    pt_shapes[\"Inspector2\"],\n",
    "    pt_shapes[\"Final\"].unique(),\n",
    ")"
   ]
  },
  {
   "cell_type": "code",
   "execution_count": 4,
   "id": "cee29b2e-802f-4347-9109-ecd8166fd22c",
   "metadata": {
    "execution": {
     "iopub.execute_input": "2023-02-02T06:27:48.765608Z",
     "iopub.status.busy": "2023-02-02T06:27:48.765101Z",
     "iopub.status.idle": "2023-02-02T06:27:48.774480Z",
     "shell.execute_reply": "2023-02-02T06:27:48.773517Z",
     "shell.execute_reply.started": "2023-02-02T06:27:48.765560Z"
    },
    "tags": []
   },
   "outputs": [],
   "source": [
    "tf_shapes = tf_shapes[[\"Representative\", \"Size\", \"Final\"]].copy()\n",
    "pt_shapes = pt_shapes[[\"Representative\", \"Size\", \"Final\"]].copy()"
   ]
  },
  {
   "cell_type": "code",
   "execution_count": 5,
   "id": "2f993191-eb66-457d-a0bb-e85120dc1fc3",
   "metadata": {
    "execution": {
     "iopub.execute_input": "2023-02-02T06:27:51.229671Z",
     "iopub.status.busy": "2023-02-02T06:27:51.229143Z",
     "iopub.status.idle": "2023-02-02T06:27:51.244106Z",
     "shell.execute_reply": "2023-02-02T06:27:51.243536Z",
     "shell.execute_reply.started": "2023-02-02T06:27:51.229622Z"
    },
    "tags": []
   },
   "outputs": [
    {
     "data": {
      "text/plain": [
       "(array([68, 26, 17, 13,  7]),\n",
       " Final\n",
       " Arrow     38\n",
       " Star      17\n",
       " Tree      20\n",
       " Forest    23\n",
       " Other      2\n",
       " dtype: int64)"
      ]
     },
     "execution_count": 5,
     "metadata": {},
     "output_type": "execute_result"
    }
   ],
   "source": [
    "tf_shapes.groupby(\"Final\").size().loc[[\"Arrow\", \"Star\", \"Tree\", \"Forest\", \"Other\"]].values, pt_shapes.groupby(\"Final\").size().loc[[\"Arrow\", \"Star\", \"Tree\", \"Forest\", \"Other\"]]"
   ]
  },
  {
   "cell_type": "code",
   "execution_count": 6,
   "id": "8e5c9340-70a1-4f15-930c-29b8727b46b8",
   "metadata": {
    "execution": {
     "iopub.execute_input": "2023-02-02T06:27:54.266635Z",
     "iopub.status.busy": "2023-02-02T06:27:54.266115Z",
     "iopub.status.idle": "2023-02-02T06:27:55.538753Z",
     "shell.execute_reply": "2023-02-02T06:27:55.538294Z",
     "shell.execute_reply.started": "2023-02-02T06:27:54.266588Z"
    }
   },
   "outputs": [
    {
     "data": {
      "image/png": "[encoded data removed]",
      "text/plain": [
       "<Figure size 540x252 with 2 Axes>"
      ]
     },
     "metadata": {
      "image/png": {
       "height": 244,
       "width": 524
      }
     },
     "output_type": "display_data"
    }
   ],
   "source": [
    "import matplotlib.pyplot as plt\n",
    "import numpy as np\n",
    "import seaborn as sns\n",
    "\n",
    "%matplotlib inline\n",
    "%config InlineBackend.figure_formats=\"retina\"\n",
    "\n",
    "def plot_shape_dist():\n",
    "    labels = [\"Arrow\", \"Star\", \"Tree\", \"Forest\", \"Other\"]\n",
    "    tf_data = tf_shapes.groupby(\"Final\").size().loc[labels].values\n",
    "    pt_data = pt_shapes.groupby(\"Final\").size().loc[labels].values\n",
    "    \n",
    "    fig, axes = plt.subplots(1, 2, figsize=(7.5, 3.5))\n",
    "    colors = sns.color_palette(\"Set2\")\n",
    "\n",
    "    axes[0].pie(\n",
    "        tf_data, \n",
    "        colors=colors, \n",
    "        labels=labels, \n",
    "        autopct='%1.1f%%', \n",
    "        startangle=-180, \n",
    "        textprops={'fontsize':10}, \n",
    "        pctdistance=0.75, \n",
    "        counterclock=False,\n",
    "        wedgeprops=dict(edgecolor='w', linewidth=0.75)\n",
    "    )\n",
    "    axes[1].pie(\n",
    "        pt_data, \n",
    "        colors=colors, \n",
    "        labels=labels, \n",
    "        autopct='%1.1f%%', \n",
    "        startangle=180, \n",
    "        textprops={'fontsize':10}, \n",
    "        pctdistance=0.75, \n",
    "        counterclock=False,\n",
    "        wedgeprops=dict(edgecolor='w', linewidth=0.75)\n",
    "    )\n",
    "    plt.tight_layout() \n",
    "    fig.savefig(\"figures/shape_distribution.pdf\", bbox_inches=\"tight\")\n",
    "    \n",
    "    return\n",
    "\n",
    "plot_shape_dist()"
   ]
  },
  {
   "cell_type": "code",
   "execution_count": 10,
   "id": "0450131e-b3e9-47d0-b0bf-80ad6bf085af",
   "metadata": {
    "execution": {
     "iopub.execute_input": "2022-09-02T04:22:33.699618Z",
     "iopub.status.busy": "2022-09-02T04:22:33.699438Z",
     "iopub.status.idle": "2022-09-02T04:22:33.705714Z",
     "shell.execute_reply": "2022-09-02T04:22:33.705219Z",
     "shell.execute_reply.started": "2022-09-02T04:22:33.699602Z"
    },
    "tags": []
   },
   "outputs": [
    {
     "data": {
      "text/plain": [
       "(Final\n",
       " Arrow     136\n",
       " Forest    392\n",
       " Other      17\n",
       " Star      108\n",
       " Tree      239\n",
       " Name: Size, dtype: int64,\n",
       " Final\n",
       " Arrow       76\n",
       " Forest    1111\n",
       " Other        2\n",
       " Star        67\n",
       " Tree       788\n",
       " Name: Size, dtype: int64)"
      ]
     },
     "execution_count": 10,
     "metadata": {},
     "output_type": "execute_result"
    }
   ],
   "source": [
    "tf_shapes.groupby(\"Final\")[\"Size\"].sum(), pt_shapes.groupby(\"Final\")[\"Size\"].sum()"
   ]
  },
  {
   "cell_type": "code",
   "execution_count": 7,
   "id": "dfa01442-9253-4248-85e1-c33d8735ca89",
   "metadata": {
    "execution": {
     "iopub.execute_input": "2023-02-02T06:28:08.005804Z",
     "iopub.status.busy": "2023-02-02T06:28:08.005260Z",
     "iopub.status.idle": "2023-02-02T06:28:08.462762Z",
     "shell.execute_reply": "2023-02-02T06:28:08.462138Z",
     "shell.execute_reply.started": "2023-02-02T06:28:08.005754Z"
    },
    "tags": []
   },
   "outputs": [],
   "source": [
    "import networkx as nx\n",
    "\n",
    "def get_clusters():\n",
    "    tf_clusters = {}\n",
    "    pt_clusters = {}\n",
    "    with open(\"data/TensorFlow/TensorFlow_communities\") as fin:\n",
    "        for line in fin:\n",
    "            edges = []\n",
    "            items = line.strip(\"\\n\").split(\", \")\n",
    "            for row in tf_edges[\n",
    "                tf_edges[\"name\"].isin(items) & tf_edges[\"dependency\"].isin(items)\n",
    "            ].itertuples(index=False):\n",
    "                edges.append((row[1], row[0]))\n",
    "            G = nx.DiGraph(edges)\n",
    "            tf_clusters[items[0]] = G\n",
    "\n",
    "    with open(\"data/PyTorch/PyTorch_communities\") as fin:\n",
    "        for line in fin:\n",
    "            edges = []\n",
    "            items = line.strip(\"\\n\").split(\", \")\n",
    "            for row in pt_edges[\n",
    "                pt_edges[\"name\"].isin(items) & pt_edges[\"dependency\"].isin(items)\n",
    "            ].itertuples(index=False):\n",
    "                edges.append((row[1], row[0]))\n",
    "            G = nx.DiGraph(edges)\n",
    "            pt_clusters[items[0]] = G\n",
    "\n",
    "    return tf_clusters, pt_clusters\n",
    "\n",
    "\n",
    "tf_clusters, pt_clusters = get_clusters()"
   ]
  },
  {
   "cell_type": "code",
   "execution_count": 10,
   "id": "c122dd94-7dc3-465c-94a2-2109863c6c93",
   "metadata": {
    "execution": {
     "iopub.execute_input": "2023-02-02T07:30:55.243104Z",
     "iopub.status.busy": "2023-02-02T07:30:55.242377Z",
     "iopub.status.idle": "2023-02-02T07:30:55.591531Z",
     "shell.execute_reply": "2023-02-02T07:30:55.591028Z",
     "shell.execute_reply.started": "2023-02-02T07:30:55.243049Z"
    },
    "tags": []
   },
   "outputs": [
    {
     "data": {
      "image/png": "[encoded data removed]",
      "text/plain": [
       "<Figure size 540x216 with 1 Axes>"
      ]
     },
     "metadata": {
      "image/png": {
       "height": 206,
       "width": 532
      },
      "needs_background": "light"
     },
     "output_type": "display_data"
    }
   ],
   "source": [
    "def tf_average_edge(s):\n",
    "    g = tf_clusters[s[\"Representative\"]]\n",
    "    return len(g.edges()) / len(g.nodes())\n",
    "\n",
    "\n",
    "def pt_average_edge(s):\n",
    "    g = pt_clusters[s[\"Representative\"]]\n",
    "    return len(g.edges()) / len(g.nodes())\n",
    "\n",
    "\n",
    "def cluster_centrality():\n",
    "\n",
    "    tf_shapes = pd.read_excel(\"data/community types.xlsx\", sheet_name=\"TensorFlow\")\n",
    "    pt_shapes = pd.read_excel(\"data/community types.xlsx\", sheet_name=\"PyTorch\")\n",
    "    tf_shapes = tf_shapes[[\"Representative\", \"Size\", \"Final\"]].copy()\n",
    "    pt_shapes = pt_shapes[[\"Representative\", \"Size\", \"Final\"]].copy()\n",
    "\n",
    "    tf_shapes[\"average edge\"] = tf_shapes.apply(tf_average_edge, axis=1)\n",
    "    pt_shapes[\"average edge\"] = pt_shapes.apply(pt_average_edge, axis=1)\n",
    "\n",
    "    shapes = [\"Arrow\", \"Star\", \"Tree\", \"Forest\"]\n",
    "    tf_data = (\n",
    "        tf_shapes[[\"Final\", \"average edge\"]].copy().rename(columns={\"Final\": \"Shape\"})\n",
    "    )\n",
    "    pt_data = (\n",
    "        pt_shapes[[\"Final\", \"average edge\"]].copy().rename(columns={\"Final\": \"Shape\"})\n",
    "    )\n",
    "    tf_data[\"Framework\"] = \"TensorFlow\"\n",
    "    pt_data[\"Framework\"] = \"PyTorch\"\n",
    "    data = pd.concat([tf_data, pt_data], ignore_index=True)\n",
    "    fig, ax = plt.subplots(1, 1, figsize=(7.5, 3))\n",
    "    palette = \"Accent\"\n",
    "    sns.boxplot(\n",
    "        x=\"Framework\",\n",
    "        y=\"average edge\",\n",
    "        data=data,\n",
    "        hue=\"Shape\",\n",
    "        hue_order=shapes,\n",
    "        order=[\"TensorFlow\", \"PyTorch\"],\n",
    "        ax=ax,\n",
    "        palette=palette,\n",
    "    )\n",
    "    ax.tick_params(axis=\"both\", which=\"major\", labelsize=12)\n",
    "    ax.set_xlabel(\"Framework\", fontsize=12)\n",
    "    ax.set_ylabel(\"Average Degree\", fontsize=12)\n",
    "    sns.move_legend(ax, loc=\"center\", ncol=2, fontsize=12, bbox_to_anchor=(0.65, 0.7))\n",
    "    ax.legend(loc=\"upper left\")\n",
    "    plt.tight_layout()\n",
    "    fig.savefig(\"figures/cluster_centralities.pdf\", bbox_inches=\"tight\")\n",
    "    return\n",
    "\n",
    "\n",
    "cluster_centrality()"
   ]
  },
  {
   "cell_type": "code",
   "execution_count": 14,
   "id": "ba64581f-0142-4733-803f-3ab226dfae95",
   "metadata": {
    "execution": {
     "iopub.execute_input": "2022-09-02T04:22:38.366646Z",
     "iopub.status.busy": "2022-09-02T04:22:38.366414Z",
     "iopub.status.idle": "2022-09-02T04:22:38.387092Z",
     "shell.execute_reply": "2022-09-02T04:22:38.386517Z",
     "shell.execute_reply.started": "2022-09-02T04:22:38.366628Z"
    },
    "tags": []
   },
   "outputs": [
    {
     "data": {
      "text/plain": [
       "{'tf:Arrow<Star': (6.5737977526055895e-21, True),\n",
       " 'tf:Star<Tree': (0.18772182434008544, False),\n",
       " 'tf:Tree<Forest': (0.008809046964535504, True),\n",
       " 'pt:Arrow<Star': (1.320724709469907e-12, True),\n",
       " 'pt:Star<Tree': (0.11225986379211311, False),\n",
       " 'pt:Tree<Forest': (0.00014025086628263644, True)}"
      ]
     },
     "execution_count": 14,
     "metadata": {},
     "output_type": "execute_result"
    }
   ],
   "source": [
    "from multipy.fwer import holm_bonferroni\n",
    "from scipy.stats import mannwhitneyu\n",
    "\n",
    "\n",
    "def test_size(field):\n",
    "\n",
    "    ps = []\n",
    "    _, p1 = mannwhitneyu(\n",
    "        tf_shapes[tf_shapes[\"Final\"] == \"Arrow\"][field],\n",
    "        tf_shapes[tf_shapes[\"Final\"] == \"Star\"][field],\n",
    "        alternative=\"less\",\n",
    "    )\n",
    "    _, p2 = mannwhitneyu(\n",
    "        tf_shapes[tf_shapes[\"Final\"] == \"Star\"][field],\n",
    "        tf_shapes[tf_shapes[\"Final\"] == \"Tree\"][field],\n",
    "        alternative=\"less\",\n",
    "    )\n",
    "    _, p3 = mannwhitneyu(\n",
    "        tf_shapes[tf_shapes[\"Final\"] == \"Tree\"][field],\n",
    "        tf_shapes[tf_shapes[\"Final\"] == \"Forest\"][field],\n",
    "        alternative=\"less\",\n",
    "    )\n",
    "    _, p4 = mannwhitneyu(\n",
    "        pt_shapes[pt_shapes[\"Final\"] == \"Arrow\"][field],\n",
    "        pt_shapes[pt_shapes[\"Final\"] == \"Star\"][field],\n",
    "        alternative=\"less\",\n",
    "    )\n",
    "    _, p5 = mannwhitneyu(\n",
    "        pt_shapes[pt_shapes[\"Final\"] == \"Star\"][field],\n",
    "        pt_shapes[pt_shapes[\"Final\"] == \"Tree\"][field],\n",
    "        alternative=\"less\",\n",
    "    )\n",
    "    _, p6 = mannwhitneyu(\n",
    "        pt_shapes[pt_shapes[\"Final\"] == \"Tree\"][field],\n",
    "        pt_shapes[pt_shapes[\"Final\"] == \"Forest\"][field],\n",
    "        alternative=\"less\",\n",
    "    )\n",
    "\n",
    "    [a1, a2, a3, a4, a5, a6] = holm_bonferroni([p1, p2, p3, p4, p5, p6], alpha=0.05)\n",
    "    ps = {\n",
    "        \"tf:Arrow<Star\": (p1 * 6, a1),\n",
    "        \"tf:Star<Tree\": (p2 * 2, a2),\n",
    "        \"tf:Tree<Forest\": (p3 * 3, a3),\n",
    "        \"pt:Arrow<Star\": (p4 * 5, a4),\n",
    "        \"pt:Star<Tree\": (p5 * 1, a5),\n",
    "        \"pt:Tree<Forest\": (p6 * 4, a6),\n",
    "    }\n",
    "    return ps\n",
    "\n",
    "\n",
    "test_size(\"Size\")"
   ]
  },
  {
   "cell_type": "code",
   "execution_count": 15,
   "id": "8c14349e-816c-4133-9416-aa6c4e9a0839",
   "metadata": {
    "execution": {
     "iopub.execute_input": "2022-09-02T04:22:38.387978Z",
     "iopub.status.busy": "2022-09-02T04:22:38.387788Z",
     "iopub.status.idle": "2022-09-02T04:22:38.439989Z",
     "shell.execute_reply": "2022-09-02T04:22:38.439445Z",
     "shell.execute_reply.started": "2022-09-02T04:22:38.387961Z"
    },
    "tags": []
   },
   "outputs": [
    {
     "data": {
      "text/plain": [
       "{'tf:Arrow<Star': (6.5737977526055895e-21, True),\n",
       " 'tf:Star<Tree': (0.0009716236951929591, True),\n",
       " 'tf:Tree<Forest': (0.0009901758186295724, True),\n",
       " 'pt:Arrow<Star': (1.320724709469907e-12, True),\n",
       " 'pt:Star<Tree': (2.1451227267292412e-06, True),\n",
       " 'pt:Tree<Forest': (0.0013643209467375651, True)}"
      ]
     },
     "execution_count": 15,
     "metadata": {},
     "output_type": "execute_result"
    }
   ],
   "source": [
    "tf_shapes = pd.read_excel(\"data/community types.xlsx\", sheet_name=\"TensorFlow\")\n",
    "pt_shapes = pd.read_excel(\"data/community types.xlsx\", sheet_name=\"PyTorch\")\n",
    "tf_shapes = tf_shapes[[\"Representative\", \"Size\", \"Final\"]].copy()\n",
    "pt_shapes = pt_shapes[[\"Representative\", \"Size\", \"Final\"]].copy()\n",
    "\n",
    "tf_shapes[\"average edge\"] = tf_shapes.apply(tf_average_edge, axis=1)\n",
    "pt_shapes[\"average edge\"] = pt_shapes.apply(pt_average_edge, axis=1)\n",
    "test_size(\"average edge\")"
   ]
  },
  {
   "cell_type": "code",
   "execution_count": 16,
   "id": "d3beb54f-ef24-495c-8670-f85c7c934e20",
   "metadata": {
    "execution": {
     "iopub.execute_input": "2022-09-02T04:22:38.440853Z",
     "iopub.status.busy": "2022-09-02T04:22:38.440668Z",
     "iopub.status.idle": "2022-09-02T04:22:38.447505Z",
     "shell.execute_reply": "2022-09-02T04:22:38.446951Z",
     "shell.execute_reply.started": "2022-09-02T04:22:38.440837Z"
    },
    "tags": []
   },
   "outputs": [
    {
     "data": {
      "text/plain": [
       "(23, 20, 13, 11)"
      ]
     },
     "execution_count": 16,
     "metadata": {},
     "output_type": "execute_result"
    }
   ],
   "source": [
    "len(pt_shapes[pt_shapes[\"Final\"] == \"Forest\"]), len(\n",
    "    pt_shapes[(pt_shapes[\"Final\"] == \"Forest\") & (pt_shapes[\"average edge\"] >= 1)]\n",
    "), len(tf_shapes[tf_shapes[\"Final\"] == \"Forest\"]), len(\n",
    "    tf_shapes[(tf_shapes[\"Final\"] == \"Forest\") & (tf_shapes[\"average edge\"] >= 1)]\n",
    ")"
   ]
  },
  {
   "cell_type": "code",
   "execution_count": 17,
   "id": "b7973d19-5f8f-48cc-98d5-72738c795a81",
   "metadata": {
    "execution": {
     "iopub.execute_input": "2022-09-02T04:22:38.448334Z",
     "iopub.status.busy": "2022-09-02T04:22:38.448156Z",
     "iopub.status.idle": "2022-09-02T04:22:38.454902Z",
     "shell.execute_reply": "2022-09-02T04:22:38.454311Z",
     "shell.execute_reply.started": "2022-09-02T04:22:38.448318Z"
    },
    "tags": []
   },
   "outputs": [
    {
     "data": {
      "text/plain": [
       "(20, 15, 17, 9)"
      ]
     },
     "execution_count": 17,
     "metadata": {},
     "output_type": "execute_result"
    }
   ],
   "source": [
    "len(pt_shapes[pt_shapes[\"Final\"] == \"Tree\"]), len(\n",
    "    pt_shapes[(pt_shapes[\"Final\"] == \"Tree\") & (pt_shapes[\"average edge\"] >= 1)]\n",
    "), len(tf_shapes[tf_shapes[\"Final\"] == \"Tree\"]), len(\n",
    "    tf_shapes[(tf_shapes[\"Final\"] == \"Tree\") & (tf_shapes[\"average edge\"] >= 1)]\n",
    ")"
   ]
  },
  {
   "cell_type": "code",
   "execution_count": 18,
   "id": "ac82ff40-24e6-47f1-a4a7-3080ae98e014",
   "metadata": {
    "execution": {
     "iopub.execute_input": "2022-09-02T04:22:38.455757Z",
     "iopub.status.busy": "2022-09-02T04:22:38.455579Z",
     "iopub.status.idle": "2022-09-02T04:22:38.461426Z",
     "shell.execute_reply": "2022-09-02T04:22:38.460883Z",
     "shell.execute_reply.started": "2022-09-02T04:22:38.455741Z"
    },
    "tags": []
   },
   "outputs": [
    {
     "data": {
      "text/plain": [
       "Final\n",
       "Arrow     0.500000\n",
       "Forest    1.080000\n",
       "Other     1.000000\n",
       "Star      0.666667\n",
       "Tree      1.000000\n",
       "Name: average edge, dtype: float64"
      ]
     },
     "execution_count": 18,
     "metadata": {},
     "output_type": "execute_result"
    }
   ],
   "source": [
    "pt_shapes.groupby(\"Final\")[\"average edge\"].median()"
   ]
  },
  {
   "cell_type": "code",
   "execution_count": 19,
   "id": "7eaedca4-84bb-4fd2-bfba-39f5ea934454",
   "metadata": {
    "execution": {
     "iopub.execute_input": "2022-09-02T04:22:38.462252Z",
     "iopub.status.busy": "2022-09-02T04:22:38.462075Z",
     "iopub.status.idle": "2022-09-02T04:22:38.467333Z",
     "shell.execute_reply": "2022-09-02T04:22:38.466881Z",
     "shell.execute_reply.started": "2022-09-02T04:22:38.462235Z"
    },
    "tags": []
   },
   "outputs": [
    {
     "data": {
      "text/plain": [
       "Final\n",
       "Arrow     0.500000\n",
       "Forest    1.076923\n",
       "Other     0.833333\n",
       "Star      0.708333\n",
       "Tree      1.000000\n",
       "Name: average edge, dtype: float64"
      ]
     },
     "execution_count": 19,
     "metadata": {},
     "output_type": "execute_result"
    }
   ],
   "source": [
    "tf_shapes.groupby(\"Final\")[\"average edge\"].median()"
   ]
  },
  {
   "cell_type": "code",
   "execution_count": null,
   "id": "e1fe1ac0-5111-4c9c-a2f8-ffbfce7afb9c",
   "metadata": {},
   "outputs": [],
   "source": []
  }
 ],
 "metadata": {
  "kernelspec": {
   "display_name": "Python 3 (ipykernel)",
   "language": "python",
   "name": "python3"
  },
  "language_info": {
   "codemirror_mode": {
    "name": "ipython",
    "version": 3
   },
   "file_extension": ".py",
   "mimetype": "text/x-python",
   "name": "python",
   "nbconvert_exporter": "python",
   "pygments_lexer": "ipython3",
   "version": "3.8.13"
  },
  "vscode": {
   "interpreter": {
    "hash": "1e2195099b66390a9dc96fc724970e7f4fb2c16f6be654ca8121fdf641308df7"
   }
  }
 },
 "nbformat": 4,
 "nbformat_minor": 5
}
